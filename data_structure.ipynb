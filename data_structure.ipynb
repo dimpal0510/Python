{
 "cells": [
  {
   "cell_type": "code",
   "execution_count": 1,
   "id": "010c9729-67e4-4f07-abe5-e7a641bd3a14",
   "metadata": {},
   "outputs": [],
   "source": [
    "list = [\"Dimple\",\"Aarohi\",\"Dhyanam\",\"ketan\",12,19,5,22]"
   ]
  },
  {
   "cell_type": "code",
   "execution_count": 3,
   "id": "d0e1baf8-29de-466d-bfb0-61de1c6770da",
   "metadata": {},
   "outputs": [
    {
     "data": {
      "text/plain": [
       "['Dimple', 'Aarohi', 'Dhyanam', 'ketan', 12, 19, 5, 22]"
      ]
     },
     "execution_count": 3,
     "metadata": {},
     "output_type": "execute_result"
    }
   ],
   "source": [
    "list"
   ]
  },
  {
   "cell_type": "code",
   "execution_count": 5,
   "id": "cc7dd395-3e21-4024-a403-00170a43e0dc",
   "metadata": {},
   "outputs": [
    {
     "name": "stdout",
     "output_type": "stream",
     "text": [
      "['Dimple', 'Aarohi', 'Dhyanam', 'ketan', 12, 19, 5, 22]\n"
     ]
    }
   ],
   "source": [
    "print(list)"
   ]
  },
  {
   "cell_type": "code",
   "execution_count": 7,
   "id": "2822eede-e44a-4267-829a-643eb4b6e335",
   "metadata": {},
   "outputs": [],
   "source": [
    "list.append(\"sejal\")"
   ]
  },
  {
   "cell_type": "code",
   "execution_count": 9,
   "id": "a513251d-9f6d-4e0a-940a-f0528036439d",
   "metadata": {},
   "outputs": [
    {
     "data": {
      "text/plain": [
       "['Dimple', 'Aarohi', 'Dhyanam', 'ketan', 12, 19, 5, 22, 'sejal']"
      ]
     },
     "execution_count": 9,
     "metadata": {},
     "output_type": "execute_result"
    }
   ],
   "source": [
    "list"
   ]
  },
  {
   "cell_type": "code",
   "execution_count": 13,
   "id": "77a16414-2371-434c-89b0-39798808fc83",
   "metadata": {},
   "outputs": [
    {
     "data": {
      "text/plain": [
       "'Aarohi'"
      ]
     },
     "execution_count": 13,
     "metadata": {},
     "output_type": "execute_result"
    }
   ],
   "source": [
    "list.pop(1)"
   ]
  },
  {
   "cell_type": "code",
   "execution_count": 17,
   "id": "8762a377-9d3f-41d8-a19e-49c1814221dd",
   "metadata": {},
   "outputs": [
    {
     "data": {
      "text/plain": [
       "['Dimple', 'Dhyanam', 'ketan', 12, 5, 22, 'sejal']"
      ]
     },
     "execution_count": 17,
     "metadata": {},
     "output_type": "execute_result"
    }
   ],
   "source": [
    "list"
   ]
  },
  {
   "cell_type": "code",
   "execution_count": 19,
   "id": "9112eee5-6496-48f0-8a44-5be62a73f842",
   "metadata": {},
   "outputs": [],
   "source": [
    "list.append(12)"
   ]
  },
  {
   "cell_type": "code",
   "execution_count": 21,
   "id": "a777b0c9-5d46-47e9-8f66-0a4cef920001",
   "metadata": {},
   "outputs": [
    {
     "data": {
      "text/plain": [
       "['Dimple', 'Dhyanam', 'ketan', 12, 5, 22, 'sejal', 12]"
      ]
     },
     "execution_count": 21,
     "metadata": {},
     "output_type": "execute_result"
    }
   ],
   "source": [
    "list"
   ]
  },
  {
   "cell_type": "code",
   "execution_count": 23,
   "id": "d18844d6-3bce-458b-80ed-6b71e9722909",
   "metadata": {},
   "outputs": [
    {
     "data": {
      "text/plain": [
       "2"
      ]
     },
     "execution_count": 23,
     "metadata": {},
     "output_type": "execute_result"
    }
   ],
   "source": [
    "list.count(12)"
   ]
  },
  {
   "cell_type": "code",
   "execution_count": 25,
   "id": "e3bec04e-dd90-43ed-893e-3d67c318e3f6",
   "metadata": {},
   "outputs": [],
   "source": [
    "list.remove(12)"
   ]
  },
  {
   "cell_type": "code",
   "execution_count": 27,
   "id": "40aee543-04cb-4804-a1d4-bdc2d7e97cbb",
   "metadata": {},
   "outputs": [
    {
     "data": {
      "text/plain": [
       "['Dimple', 'Dhyanam', 'ketan', 5, 22, 'sejal', 12]"
      ]
     },
     "execution_count": 27,
     "metadata": {},
     "output_type": "execute_result"
    }
   ],
   "source": [
    "list"
   ]
  },
  {
   "cell_type": "code",
   "execution_count": 29,
   "id": "8e748302-f509-4bff-bc23-d94dbb7b855b",
   "metadata": {},
   "outputs": [],
   "source": [
    "list.insert(1,\"Aarohi\")"
   ]
  },
  {
   "cell_type": "code",
   "execution_count": 31,
   "id": "d5618526-0d3a-48bb-a72b-4869f8d3ef97",
   "metadata": {},
   "outputs": [
    {
     "data": {
      "text/plain": [
       "['Dimple', 'Aarohi', 'Dhyanam', 'ketan', 5, 22, 'sejal', 12]"
      ]
     },
     "execution_count": 31,
     "metadata": {},
     "output_type": "execute_result"
    }
   ],
   "source": [
    "list"
   ]
  },
  {
   "cell_type": "code",
   "execution_count": 33,
   "id": "f453b534-aae5-4db8-8d5a-9fa4d8f91ac0",
   "metadata": {},
   "outputs": [],
   "source": [
    "list.clear()"
   ]
  },
  {
   "cell_type": "code",
   "execution_count": 35,
   "id": "1bfe2d06-a2fc-4cac-832e-2b9ea5ddbee9",
   "metadata": {},
   "outputs": [
    {
     "data": {
      "text/plain": [
       "[]"
      ]
     },
     "execution_count": 35,
     "metadata": {},
     "output_type": "execute_result"
    }
   ],
   "source": [
    "list"
   ]
  },
  {
   "cell_type": "code",
   "execution_count": 37,
   "id": "b615e99c-7f7c-477e-ab73-8b68bb1f7891",
   "metadata": {},
   "outputs": [],
   "source": [
    "list = [\"Dimple\",\"Aarohi\",\"Dhyanam\",\"ketan\",12,19,5,22]"
   ]
  },
  {
   "cell_type": "code",
   "execution_count": 39,
   "id": "492726ba-b0e0-40d6-a30a-e1655cab7339",
   "metadata": {},
   "outputs": [],
   "source": [
    "ls1 = [12,23,15,87,54,56,15,14]"
   ]
  },
  {
   "cell_type": "code",
   "execution_count": 45,
   "id": "5b55c992-048f-48fe-8e8b-d102ef2bd351",
   "metadata": {},
   "outputs": [],
   "source": [
    "ls.extend(list)"
   ]
  },
  {
   "cell_type": "code",
   "execution_count": 47,
   "id": "ee94b694-f062-4bb0-b162-6f27e6fdb78a",
   "metadata": {},
   "outputs": [
    {
     "data": {
      "text/plain": [
       "['sjal',\n",
       " 29,\n",
       " 'vasu',\n",
       " 93,\n",
       " 'deepu',\n",
       " 94,\n",
       " 'Dimple',\n",
       " 'Aarohi',\n",
       " 'Dhyanam',\n",
       " 'ketan',\n",
       " 12,\n",
       " 19,\n",
       " 5,\n",
       " 22,\n",
       " 'sjal',\n",
       " 29,\n",
       " 'vasu',\n",
       " 93,\n",
       " 'deepu',\n",
       " 94]"
      ]
     },
     "execution_count": 47,
     "metadata": {},
     "output_type": "execute_result"
    }
   ],
   "source": [
    "ls"
   ]
  },
  {
   "cell_type": "code",
   "execution_count": 49,
   "id": "3872250e-119d-459d-a9a9-9bf648d6839d",
   "metadata": {},
   "outputs": [
    {
     "ename": "TypeError",
     "evalue": "'<' not supported between instances of 'int' and 'str'",
     "output_type": "error",
     "traceback": [
      "\u001b[1;31m---------------------------------------------------------------------------\u001b[0m",
      "\u001b[1;31mTypeError\u001b[0m                                 Traceback (most recent call last)",
      "Cell \u001b[1;32mIn[49], line 1\u001b[0m\n\u001b[1;32m----> 1\u001b[0m ls\u001b[38;5;241m.\u001b[39msort()\n",
      "\u001b[1;31mTypeError\u001b[0m: '<' not supported between instances of 'int' and 'str'"
     ]
    }
   ],
   "source": [
    "ls.sort()"
   ]
  },
  {
   "cell_type": "code",
   "execution_count": 51,
   "id": "40d62e50-b08e-40dc-bb08-01fc2c98f03c",
   "metadata": {},
   "outputs": [],
   "source": [
    "ls1 = [12,23,15,87,54,56,15,14]"
   ]
  },
  {
   "cell_type": "code",
   "execution_count": 53,
   "id": "d775b406-5976-4d17-a2f1-802a8e433393",
   "metadata": {},
   "outputs": [],
   "source": [
    "ls1.sort()"
   ]
  },
  {
   "cell_type": "code",
   "execution_count": 55,
   "id": "b1b730d5-e411-400d-a8c6-3761291a091f",
   "metadata": {},
   "outputs": [
    {
     "data": {
      "text/plain": [
       "[12, 14, 15, 15, 23, 54, 56, 87]"
      ]
     },
     "execution_count": 55,
     "metadata": {},
     "output_type": "execute_result"
    }
   ],
   "source": [
    "ls1"
   ]
  },
  {
   "cell_type": "code",
   "execution_count": 57,
   "id": "6f3bf80c-571e-4352-9f1d-f7522dc7c856",
   "metadata": {},
   "outputs": [],
   "source": [
    "ls1.reverse()"
   ]
  },
  {
   "cell_type": "code",
   "execution_count": 59,
   "id": "7509eeae-4dc0-4710-bc12-9a4cd70bf6be",
   "metadata": {},
   "outputs": [
    {
     "data": {
      "text/plain": [
       "[87, 56, 54, 23, 15, 15, 14, 12]"
      ]
     },
     "execution_count": 59,
     "metadata": {},
     "output_type": "execute_result"
    }
   ],
   "source": [
    "ls1"
   ]
  },
  {
   "cell_type": "code",
   "execution_count": 61,
   "id": "be87f63d-def7-4663-9c95-3e7becd58f13",
   "metadata": {},
   "outputs": [],
   "source": [
    "ls1 = [12,23,15,87,54,56,15,14]"
   ]
  },
  {
   "cell_type": "code",
   "execution_count": 63,
   "id": "2245c736-7fba-41d0-a410-5d62a5d21da2",
   "metadata": {},
   "outputs": [],
   "source": [
    "ls1.sort(reverse = True)"
   ]
  },
  {
   "cell_type": "code",
   "execution_count": 67,
   "id": "413414ff-3998-4e4c-936a-410624fad590",
   "metadata": {},
   "outputs": [
    {
     "data": {
      "text/plain": [
       "[87, 56, 54, 23, 15, 15, 14, 12]"
      ]
     },
     "execution_count": 67,
     "metadata": {},
     "output_type": "execute_result"
    }
   ],
   "source": [
    "ls1"
   ]
  },
  {
   "cell_type": "code",
   "execution_count": null,
   "id": "883b8b22-916d-4232-b3d0-572403bfd3d0",
   "metadata": {},
   "outputs": [],
   "source": []
  },
  {
   "cell_type": "code",
   "execution_count": 70,
   "id": "82d7bf8e-c48e-42e3-ba73-8aa5dce39d7f",
   "metadata": {},
   "outputs": [
    {
     "data": {
      "text/plain": [
       "2"
      ]
     },
     "execution_count": 70,
     "metadata": {},
     "output_type": "execute_result"
    }
   ],
   "source": [
    "ls1.index(54)"
   ]
  },
  {
   "cell_type": "code",
   "execution_count": 1,
   "id": "3dab5187-b21a-4251-84dd-90f5844c44a5",
   "metadata": {},
   "outputs": [
    {
     "ename": "NameError",
     "evalue": "name 'ls1' is not defined",
     "output_type": "error",
     "traceback": [
      "\u001b[1;31m---------------------------------------------------------------------------\u001b[0m",
      "\u001b[1;31mNameError\u001b[0m                                 Traceback (most recent call last)",
      "Cell \u001b[1;32mIn[1], line 1\u001b[0m\n\u001b[1;32m----> 1\u001b[0m \u001b[38;5;28mprint\u001b[39m(\u001b[38;5;28mdir\u001b[39m(ls1))\n",
      "\u001b[1;31mNameError\u001b[0m: name 'ls1' is not defined"
     ]
    }
   ],
   "source": [
    "print(dir(ls1))"
   ]
  },
  {
   "cell_type": "code",
   "execution_count": 3,
   "id": "25ad684c-3f5a-4b0d-8891-5f0554ef26e2",
   "metadata": {},
   "outputs": [],
   "source": [
    "ls1 = [12,23,15,87,54,56,15,14]"
   ]
  },
  {
   "cell_type": "code",
   "execution_count": 5,
   "id": "0db3ed25-76a6-4db4-8f3d-6a5518c4d0fd",
   "metadata": {},
   "outputs": [
    {
     "name": "stdout",
     "output_type": "stream",
     "text": [
      "['__add__', '__class__', '__class_getitem__', '__contains__', '__delattr__', '__delitem__', '__dir__', '__doc__', '__eq__', '__format__', '__ge__', '__getattribute__', '__getitem__', '__getstate__', '__gt__', '__hash__', '__iadd__', '__imul__', '__init__', '__init_subclass__', '__iter__', '__le__', '__len__', '__lt__', '__mul__', '__ne__', '__new__', '__reduce__', '__reduce_ex__', '__repr__', '__reversed__', '__rmul__', '__setattr__', '__setitem__', '__sizeof__', '__str__', '__subclasshook__', 'append', 'clear', 'copy', 'count', 'extend', 'index', 'insert', 'pop', 'remove', 'reverse', 'sort']\n"
     ]
    }
   ],
   "source": [
    "print(dir(ls1))"
   ]
  },
  {
   "cell_type": "code",
   "execution_count": 7,
   "id": "b8bc969c-2c52-4cd7-ab21-82a8e53a7186",
   "metadata": {},
   "outputs": [
    {
     "data": {
      "text/plain": [
       "[12, 23, 15, 87, 54, 56, 15, 14]"
      ]
     },
     "execution_count": 7,
     "metadata": {},
     "output_type": "execute_result"
    }
   ],
   "source": [
    "ls1"
   ]
  },
  {
   "cell_type": "code",
   "execution_count": 9,
   "id": "e2c410cb-b474-44d6-84c9-515c35aceee8",
   "metadata": {},
   "outputs": [
    {
     "ename": "NameError",
     "evalue": "name 'ls2' is not defined",
     "output_type": "error",
     "traceback": [
      "\u001b[1;31m---------------------------------------------------------------------------\u001b[0m",
      "\u001b[1;31mNameError\u001b[0m                                 Traceback (most recent call last)",
      "Cell \u001b[1;32mIn[9], line 1\u001b[0m\n\u001b[1;32m----> 1\u001b[0m ls1\u001b[38;5;241m.\u001b[39mcopy(ls2)\n",
      "\u001b[1;31mNameError\u001b[0m: name 'ls2' is not defined"
     ]
    }
   ],
   "source": [
    "ls1.copy(ls2)"
   ]
  },
  {
   "cell_type": "code",
   "execution_count": 11,
   "id": "3d612612-5032-4eaa-8412-88b1466a73ad",
   "metadata": {},
   "outputs": [],
   "source": [
    "ls1 = [12,23,15,87,54,56,15,14]"
   ]
  },
  {
   "cell_type": "code",
   "execution_count": 13,
   "id": "b5bad155-b042-4509-834e-562b03f13b58",
   "metadata": {},
   "outputs": [],
   "source": [
    "ls2 = [54,36,25,25,26,23]"
   ]
  },
  {
   "cell_type": "code",
   "execution_count": 15,
   "id": "4fe7a0ed-a59f-4e98-922c-ef05ecc9d3c9",
   "metadata": {},
   "outputs": [
    {
     "ename": "TypeError",
     "evalue": "list.copy() takes no arguments (1 given)",
     "output_type": "error",
     "traceback": [
      "\u001b[1;31m---------------------------------------------------------------------------\u001b[0m",
      "\u001b[1;31mTypeError\u001b[0m                                 Traceback (most recent call last)",
      "Cell \u001b[1;32mIn[15], line 1\u001b[0m\n\u001b[1;32m----> 1\u001b[0m ls1\u001b[38;5;241m.\u001b[39mcopy(ls2)\n",
      "\u001b[1;31mTypeError\u001b[0m: list.copy() takes no arguments (1 given)"
     ]
    }
   ],
   "source": [
    "ls1.copy(ls2)"
   ]
  },
  {
   "cell_type": "code",
   "execution_count": 17,
   "id": "deef560f-2d63-4cf4-8699-8e92fbeb3176",
   "metadata": {},
   "outputs": [],
   "source": [
    "ls2.extend(ls1)"
   ]
  },
  {
   "cell_type": "code",
   "execution_count": 19,
   "id": "042fbf44-4942-490a-b399-f91c33a31951",
   "metadata": {},
   "outputs": [
    {
     "data": {
      "text/plain": [
       "[54, 36, 25, 25, 26, 23, 12, 23, 15, 87, 54, 56, 15, 14]"
      ]
     },
     "execution_count": 19,
     "metadata": {},
     "output_type": "execute_result"
    }
   ],
   "source": [
    "ls2"
   ]
  },
  {
   "cell_type": "code",
   "execution_count": 3,
   "id": "f8362ed8-886d-4e39-a7a3-1f664f01b6e1",
   "metadata": {},
   "outputs": [
    {
     "ename": "NameError",
     "evalue": "name 'ls2' is not defined",
     "output_type": "error",
     "traceback": [
      "\u001b[1;31m---------------------------------------------------------------------------\u001b[0m",
      "\u001b[1;31mNameError\u001b[0m                                 Traceback (most recent call last)",
      "Cell \u001b[1;32mIn[3], line 1\u001b[0m\n\u001b[1;32m----> 1\u001b[0m \u001b[38;5;28mprint\u001b[39m(\u001b[38;5;28mdir\u001b[39m(ls2))\n",
      "\u001b[1;31mNameError\u001b[0m: name 'ls2' is not defined"
     ]
    }
   ],
   "source": [
    "print(dir(ls2))"
   ]
  },
  {
   "cell_type": "code",
   "execution_count": 5,
   "id": "bb5356f7-c701-49b5-b4af-e8902ddbdee3",
   "metadata": {},
   "outputs": [],
   "source": [
    "ls2 = [12,23,45,66,78,88]"
   ]
  },
  {
   "cell_type": "code",
   "execution_count": 9,
   "id": "2ae1598b-bddd-420b-83f0-5ced0d2837da",
   "metadata": {},
   "outputs": [
    {
     "name": "stdout",
     "output_type": "stream",
     "text": [
      "['__add__', '__class__', '__class_getitem__', '__contains__', '__delattr__', '__delitem__', '__dir__', '__doc__', '__eq__', '__format__', '__ge__', '__getattribute__', '__getitem__', '__getstate__', '__gt__', '__hash__', '__iadd__', '__imul__', '__init__', '__init_subclass__', '__iter__', '__le__', '__len__', '__lt__', '__mul__', '__ne__', '__new__', '__reduce__', '__reduce_ex__', '__repr__', '__reversed__', '__rmul__', '__setattr__', '__setitem__', '__sizeof__', '__str__', '__subclasshook__', 'append', 'clear', 'copy', 'count', 'extend', 'index', 'insert', 'pop', 'remove', 'reverse', 'sort']\n"
     ]
    }
   ],
   "source": [
    "print(dir(ls2))"
   ]
  },
  {
   "cell_type": "code",
   "execution_count": null,
   "id": "a598ec69-6035-4477-8d10-a99dab44a0d7",
   "metadata": {},
   "outputs": [],
   "source": []
  }
 ],
 "metadata": {
  "kernelspec": {
   "display_name": "Python [conda env:base] *",
   "language": "python",
   "name": "conda-base-py"
  },
  "language_info": {
   "codemirror_mode": {
    "name": "ipython",
    "version": 3
   },
   "file_extension": ".py",
   "mimetype": "text/x-python",
   "name": "python",
   "nbconvert_exporter": "python",
   "pygments_lexer": "ipython3",
   "version": "3.12.7"
  }
 },
 "nbformat": 4,
 "nbformat_minor": 5
}
