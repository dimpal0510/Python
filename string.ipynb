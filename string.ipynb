{
 "cells": [
  {
   "cell_type": "markdown",
   "id": "e5e553d8-a44e-40c2-9a5d-24dc95a57b20",
   "metadata": {},
   "source": [
    "# String : sequance of characters"
   ]
  },
  {
   "cell_type": "code",
   "execution_count": 3,
   "id": "f78076f9-c700-4416-8661-0a499119400d",
   "metadata": {},
   "outputs": [],
   "source": [
    "data = \"welcome to Python Programming\""
   ]
  },
  {
   "cell_type": "code",
   "execution_count": 19,
   "id": "aeab2401-9b4a-4771-bac0-0ac40979044b",
   "metadata": {},
   "outputs": [
    {
     "data": {
      "text/plain": [
       "'WELCOME TO PYTHON PROGRAMMING'"
      ]
     },
     "execution_count": 19,
     "metadata": {},
     "output_type": "execute_result"
    }
   ],
   "source": [
    "data.upper()"
   ]
  },
  {
   "cell_type": "code",
   "execution_count": 57,
   "id": "494dde97-d10d-48db-af70-9dc62002e2d5",
   "metadata": {},
   "outputs": [
    {
     "data": {
      "text/plain": [
       "'welcome to python programming'"
      ]
     },
     "execution_count": 57,
     "metadata": {},
     "output_type": "execute_result"
    }
   ],
   "source": [
    "data.lower()"
   ]
  },
  {
   "cell_type": "code",
   "execution_count": 9,
   "id": "e3e4f99b-6ca1-45fe-b51b-546203ecae29",
   "metadata": {},
   "outputs": [
    {
     "data": {
      "text/plain": [
       "False"
      ]
     },
     "execution_count": 9,
     "metadata": {},
     "output_type": "execute_result"
    }
   ],
   "source": [
    "data.isupper()"
   ]
  },
  {
   "cell_type": "code",
   "execution_count": 11,
   "id": "e3e91941-3307-4db7-9714-7fef19b93f3d",
   "metadata": {},
   "outputs": [
    {
     "data": {
      "text/plain": [
       "False"
      ]
     },
     "execution_count": 11,
     "metadata": {},
     "output_type": "execute_result"
    }
   ],
   "source": [
    "data.islower()"
   ]
  },
  {
   "cell_type": "code",
   "execution_count": 27,
   "id": "317c9a55-b2d6-4d29-9ef8-cd53a5224e6f",
   "metadata": {},
   "outputs": [
    {
     "data": {
      "text/plain": [
       "'My name is dimple'"
      ]
     },
     "execution_count": 27,
     "metadata": {},
     "output_type": "execute_result"
    }
   ],
   "source": [
    "data1 = \"my name is Dimple\"\n",
    "data1.capitalize()"
   ]
  },
  {
   "cell_type": "code",
   "execution_count": 23,
   "id": "af6e6060-dda5-4643-80c5-c0bc14e79857",
   "metadata": {},
   "outputs": [
    {
     "data": {
      "text/plain": [
       "'Welcome to Python programming'"
      ]
     },
     "execution_count": 23,
     "metadata": {},
     "output_type": "execute_result"
    }
   ],
   "source": [
    "data.center(1)"
   ]
  },
  {
   "cell_type": "code",
   "execution_count": 61,
   "id": "4fc57bcf-b0e1-4598-9dd9-661d24ad07fa",
   "metadata": {},
   "outputs": [
    {
     "data": {
      "text/plain": [
       "3"
      ]
     },
     "execution_count": 61,
     "metadata": {},
     "output_type": "execute_result"
    }
   ],
   "source": [
    "data.count(\"m\")"
   ]
  },
  {
   "cell_type": "code",
   "execution_count": 41,
   "id": "e71a8689-c26d-4a2e-89e6-c256eb09a509",
   "metadata": {},
   "outputs": [
    {
     "data": {
      "text/plain": [
       "b'Welcome to Python programming'"
      ]
     },
     "execution_count": 41,
     "metadata": {},
     "output_type": "execute_result"
    }
   ],
   "source": [
    "data.encode()"
   ]
  },
  {
   "cell_type": "code",
   "execution_count": 45,
   "id": "a471af46-b407-4625-958f-bf89532cc3f7",
   "metadata": {},
   "outputs": [
    {
     "name": "stdout",
     "output_type": "stream",
     "text": [
      "True\n"
     ]
    }
   ],
   "source": [
    "print(data.endswith(\"ing\"))"
   ]
  },
  {
   "cell_type": "code",
   "execution_count": 47,
   "id": "d6714a09-f420-48e4-bae0-678aa67f14b9",
   "metadata": {},
   "outputs": [
    {
     "data": {
      "text/plain": [
       "False"
      ]
     },
     "execution_count": 47,
     "metadata": {},
     "output_type": "execute_result"
    }
   ],
   "source": [
    "data.startswith(\"wel\")"
   ]
  },
  {
   "cell_type": "code",
   "execution_count": 49,
   "id": "683f40d2-702f-4ba0-b9f9-606f39389c0f",
   "metadata": {},
   "outputs": [
    {
     "data": {
      "text/plain": [
       "True"
      ]
     },
     "execution_count": 49,
     "metadata": {},
     "output_type": "execute_result"
    }
   ],
   "source": [
    "data.startswith(\"Wel\")"
   ]
  },
  {
   "cell_type": "code",
   "execution_count": null,
   "id": "23d4948f-5257-48ff-a102-a5a178d12ce4",
   "metadata": {},
   "outputs": [],
   "source": []
  },
  {
   "cell_type": "code",
   "execution_count": 63,
   "id": "77be2a16-6203-4108-b510-ffaba9c748c8",
   "metadata": {},
   "outputs": [
    {
     "name": "stdin",
     "output_type": "stream",
     "text": [
      "Enter your gender female\n"
     ]
    },
    {
     "name": "stdout",
     "output_type": "stream",
     "text": [
      "you are female\n"
     ]
    }
   ],
   "source": [
    "gender = input(\"Enter your gender\")\n",
    "\n",
    "if(gender == \"male\"):\n",
    "    print(\"you are male\")\n",
    "elif(gender == \"female\"):\n",
    "    print(\"you are female\")\n",
    "\n",
    "else:\n",
    "    print(\"Invalid input\")"
   ]
  },
  {
   "cell_type": "code",
   "execution_count": 65,
   "id": "fcd6ada7-ff37-4eec-a595-ed32c984b46f",
   "metadata": {},
   "outputs": [
    {
     "data": {
      "text/plain": [
       "'Welcome To Python Programming'"
      ]
     },
     "execution_count": 65,
     "metadata": {},
     "output_type": "execute_result"
    }
   ],
   "source": [
    "data.title()"
   ]
  },
  {
   "cell_type": "code",
   "execution_count": 75,
   "id": "51b5127f-d596-4670-930e-f2720d3dd093",
   "metadata": {},
   "outputs": [
    {
     "name": "stdin",
     "output_type": "stream",
     "text": [
      "Enter your gender : female\n",
      "Enter your age :  22\n",
      "Enter your Choice gujrati\n"
     ]
    },
    {
     "name": "stdout",
     "output_type": "stream",
     "text": [
      "You got 3% discount\n"
     ]
    }
   ],
   "source": [
    "gender = str(input(\"Enter your gender :\"))\n",
    "age = int(input(\"Enter your age : \"))\n",
    "choice = str(input(\"Enter your Choice\"))\n",
    "\n",
    "if(gender == \"male\"):\n",
    "    if(age > 26):\n",
    "        print(\"you got 10% discount\")\n",
    "    elif(age < 26):\n",
    "        print(\"you got 8% discount\")\n",
    "    else:\n",
    "        print(\"you got 5% discount\")\n",
    "\n",
    "elif(gender == \"female\"):\n",
    "    if(choice == \"bollywood\"):\n",
    "        print(\"you got 12% discount\")\n",
    "    elif(choice == \"hollywood\"):\n",
    "        print(\"You got 5% discount\")\n",
    "    else:\n",
    "        print(\"You got 3% discount\")\n",
    "\n",
    "else:\n",
    "    print(\"invalid input\")\n",
    "    "
   ]
  },
  {
   "cell_type": "code",
   "execution_count": 23,
   "id": "f9a8baee-2cb6-4bdd-a323-cd32722f8fbe",
   "metadata": {},
   "outputs": [
    {
     "name": "stdin",
     "output_type": "stream",
     "text": [
      "Enter your gender : Male/ Female male\n"
     ]
    },
    {
     "name": "stdout",
     "output_type": "stream",
     "text": [
      "you are male\n"
     ]
    },
    {
     "name": "stdin",
     "output_type": "stream",
     "text": [
      "Enter your age : 31\n"
     ]
    },
    {
     "name": "stdout",
     "output_type": "stream",
     "text": [
      "your age is abovbe 26 years\n",
      "10 % discount\n"
     ]
    },
    {
     "name": "stdin",
     "output_type": "stream",
     "text": [
      "Enter the actual MRP 30000\n"
     ]
    },
    {
     "name": "stdout",
     "output_type": "stream",
     "text": [
      "The discount you got 8% from the actual MRP 30000\n",
      "after discount u have to pay 2400.0\n"
     ]
    }
   ],
   "source": [
    "gender = input(\"Enter your gender : Male/ Female\")\n",
    "gender = gender.lower()\n",
    "\n",
    "if gender == \"male\":\n",
    "    print(\"you are male\")\n",
    "    age = int(input(\"Enter your age :\"))\n",
    "    if age > 26:\n",
    "        print(\"your age is abovbe 26 years\")\n",
    "        print(\"10 % discount\")\n",
    "        discout = 10\n",
    "    elif age < 26:\n",
    "        print(\"your age is below 26 years\")\n",
    "        print(\"8% discount\")\n",
    "        discount = 8\n",
    "    elif age == 26:\n",
    "        print(\"your age is 26 years \")\n",
    "        print(\"5% discount\")\n",
    "        discount = 5\n",
    "elif gender == \"female\":\n",
    "    print(\"you are female\")\n",
    "    choice = str(input(\"what you like HL or BL :\"))\n",
    "    choice = choice.lower()\n",
    "    if choice == \"hl\":\n",
    "        print(\"You Like hollywood movies\")\n",
    "        print(\"12% discount\")\n",
    "        discount = 12\n",
    "    elif choice == \"bl\":\n",
    "        print(\"You like bollywood\")\n",
    "        print(\"5% discount\")\n",
    "        discount = 5\n",
    "    elif choice == \"g\":\n",
    "        print(\"You Like Gujrati movies\")\n",
    "        print(\"3% discount\")\n",
    "        discount = 3\n",
    "else:\n",
    "    print(\"wrong input\")\n",
    "\n",
    "mrp = int(input(\"Enter the actual MRP\"))\n",
    "discount_prise = (mrp * discount)/100\n",
    "\n",
    "\n",
    "print(f\"The discount you got {discount}% from the actual MRP {mrp}\")\n",
    "print(f\"after discount u have to pay {discount_prise}\")"
   ]
  },
  {
   "cell_type": "code",
   "execution_count": null,
   "id": "bc651253-9ac4-45a5-8fea-a82526f1a815",
   "metadata": {},
   "outputs": [],
   "source": []
  }
 ],
 "metadata": {
  "kernelspec": {
   "display_name": "Python [conda env:base] *",
   "language": "python",
   "name": "conda-base-py"
  },
  "language_info": {
   "codemirror_mode": {
    "name": "ipython",
    "version": 3
   },
   "file_extension": ".py",
   "mimetype": "text/x-python",
   "name": "python",
   "nbconvert_exporter": "python",
   "pygments_lexer": "ipython3",
   "version": "3.12.7"
  }
 },
 "nbformat": 4,
 "nbformat_minor": 5
}
