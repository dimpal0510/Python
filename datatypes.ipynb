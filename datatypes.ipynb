{
 "cells": [
  {
   "cell_type": "code",
   "execution_count": 5,
   "id": "44792718-ab60-4b3e-823d-fb0648ef620e",
   "metadata": {},
   "outputs": [],
   "source": [
    "name =\"Ram\""
   ]
  },
  {
   "cell_type": "raw",
   "id": "a9ce6701-21cc-4c65-a997-307de2753c3b",
   "metadata": {},
   "source": [
    "print(type(name))"
   ]
  },
  {
   "cell_type": "code",
   "execution_count": 7,
   "id": "54072a76-6210-48b0-9b5a-a50e612a2bc1",
   "metadata": {},
   "outputs": [
    {
     "name": "stdout",
     "output_type": "stream",
     "text": [
      "<class 'str'>\n"
     ]
    }
   ],
   "source": [
    "print(type(name))"
   ]
  },
  {
   "cell_type": "code",
   "execution_count": 9,
   "id": "9cb01ec4-ca11-437e-8f76-4ecf56af3d05",
   "metadata": {},
   "outputs": [
    {
     "name": "stdout",
     "output_type": "stream",
     "text": [
      "1878195232736\n"
     ]
    }
   ],
   "source": [
    "print(id(name))"
   ]
  },
  {
   "cell_type": "code",
   "execution_count": 13,
   "id": "3c455e28-bbef-4ca0-a693-96c18e25d6bf",
   "metadata": {},
   "outputs": [
    {
     "name": "stdout",
     "output_type": "stream",
     "text": [
      "0x1b54d28dfe0\n"
     ]
    }
   ],
   "source": [
    "print(hex(id(name)))"
   ]
  },
  {
   "cell_type": "raw",
   "id": "d7cf4c4e-e0e6-48a3-9404-5c3b30d409a4",
   "metadata": {},
   "source": [
    "print(bin(id(name)))"
   ]
  },
  {
   "cell_type": "code",
   "execution_count": 15,
   "id": "e35fdf5b-0aad-4a1f-9b79-c2967f8c14ff",
   "metadata": {},
   "outputs": [
    {
     "name": "stdout",
     "output_type": "stream",
     "text": [
      "0b11011010101001101001010001101111111100000\n"
     ]
    }
   ],
   "source": [
    "print(bin(id(name)))"
   ]
  },
  {
   "cell_type": "code",
   "execution_count": 17,
   "id": "590171db-8235-44d9-8628-24a749a190c6",
   "metadata": {},
   "outputs": [],
   "source": [
    "age = 25"
   ]
  },
  {
   "cell_type": "code",
   "execution_count": 19,
   "id": "0ca50173-74dc-43b5-a67c-4d25e5104442",
   "metadata": {},
   "outputs": [
    {
     "name": "stdout",
     "output_type": "stream",
     "text": [
      "<class 'int'>\n"
     ]
    }
   ],
   "source": [
    "print(type(age))"
   ]
  },
  {
   "cell_type": "code",
   "execution_count": 21,
   "id": "093e3a8b-c971-4705-b356-0f4ddfd8a9de",
   "metadata": {},
   "outputs": [],
   "source": [
    "salary = 25000.25645"
   ]
  },
  {
   "cell_type": "code",
   "execution_count": 23,
   "id": "53a2b2d9-147c-4d02-adfb-3cdaba2127d0",
   "metadata": {},
   "outputs": [
    {
     "name": "stdout",
     "output_type": "stream",
     "text": [
      "<class 'float'>\n"
     ]
    }
   ],
   "source": [
    "print(type(salary))"
   ]
  },
  {
   "cell_type": "code",
   "execution_count": 27,
   "id": "4dfa385c-2187-48f2-aa37-bd1d33e2273e",
   "metadata": {},
   "outputs": [],
   "source": [
    "isMale = True"
   ]
  },
  {
   "cell_type": "raw",
   "id": "4af5861b-eee3-41d6-b8f4-67a10ea093f4",
   "metadata": {},
   "source": [
    "print(type(isMale))"
   ]
  },
  {
   "cell_type": "code",
   "execution_count": 29,
   "id": "c3a49f0c-16cc-4fd1-8ee1-b462bd325191",
   "metadata": {},
   "outputs": [
    {
     "name": "stdout",
     "output_type": "stream",
     "text": [
      "<class 'bool'>\n"
     ]
    }
   ],
   "source": [
    "print(type(isMale))"
   ]
  },
  {
   "cell_type": "markdown",
   "id": "d988a87b-fdf4-47fe-b1d4-e15493afc7e6",
   "metadata": {},
   "source": [
    "# data stucture:\n",
    "list:\n",
    "Tuple:\n",
    "set:\n",
    "Dictionary:"
   ]
  },
  {
   "cell_type": "markdown",
   "id": "77f2cc46-b0f1-48f9-9638-aa67b273519f",
   "metadata": {},
   "source": [
    "# list : \n",
    "##### list is a colection of data"
   ]
  },
  {
   "cell_type": "code",
   "execution_count": 35,
   "id": "0e6f9b53-a9c7-4d06-ba1e-111f264de5da",
   "metadata": {},
   "outputs": [],
   "source": [
    "ls = [2,3,4,5,6]"
   ]
  },
  {
   "cell_type": "code",
   "execution_count": 37,
   "id": "26af7d3b-0da2-498a-9495-16c534ccbbe0",
   "metadata": {},
   "outputs": [
    {
     "name": "stdout",
     "output_type": "stream",
     "text": [
      "<class 'list'>\n"
     ]
    }
   ],
   "source": [
    "print(type(ls))"
   ]
  },
  {
   "cell_type": "code",
   "execution_count": 39,
   "id": "1a7e8694-d460-47c0-8fc7-7ac6d6e1baaa",
   "metadata": {},
   "outputs": [
    {
     "name": "stdout",
     "output_type": "stream",
     "text": [
      "['__add__', '__class__', '__class_getitem__', '__contains__', '__delattr__', '__delitem__', '__dir__', '__doc__', '__eq__', '__format__', '__ge__', '__getattribute__', '__getitem__', '__getstate__', '__gt__', '__hash__', '__iadd__', '__imul__', '__init__', '__init_subclass__', '__iter__', '__le__', '__len__', '__lt__', '__mul__', '__ne__', '__new__', '__reduce__', '__reduce_ex__', '__repr__', '__reversed__', '__rmul__', '__setattr__', '__setitem__', '__sizeof__', '__str__', '__subclasshook__', 'append', 'clear', 'copy', 'count', 'extend', 'index', 'insert', 'pop', 'remove', 'reverse', 'sort']\n"
     ]
    }
   ],
   "source": [
    "print(dir(ls))"
   ]
  },
  {
   "cell_type": "code",
   "execution_count": 41,
   "id": "e2021eb6-3068-4ee1-8674-3ec6fc3e12e7",
   "metadata": {},
   "outputs": [],
   "source": [
    "#Tuple:"
   ]
  },
  {
   "cell_type": "code",
   "execution_count": 43,
   "id": "f490572f-5b80-442b-ad18-fdbf95e286a4",
   "metadata": {},
   "outputs": [],
   "source": [
    "data = (2,3,4,5,6)"
   ]
  },
  {
   "cell_type": "code",
   "execution_count": 45,
   "id": "b5903a45-b570-4e84-baf2-9c3db24dd165",
   "metadata": {},
   "outputs": [
    {
     "name": "stdout",
     "output_type": "stream",
     "text": [
      "<class 'tuple'>\n"
     ]
    }
   ],
   "source": [
    "print(type(data))"
   ]
  },
  {
   "cell_type": "code",
   "execution_count": 13,
   "id": "00c416a9-6ff7-4693-abc5-0937b4f9bd11",
   "metadata": {},
   "outputs": [],
   "source": [
    "st = {2,3,4,5,6,7,8,9}"
   ]
  },
  {
   "cell_type": "code",
   "execution_count": 51,
   "id": "b266ba38-16c6-4ec1-9025-2b4a26619790",
   "metadata": {},
   "outputs": [],
   "source": [
    "movies = {\"A\": \"Ram\", \"B\": 25000}"
   ]
  },
  {
   "cell_type": "code",
   "execution_count": 53,
   "id": "c7c3b856-8114-44e8-93ec-3f6380e3b7f4",
   "metadata": {},
   "outputs": [
    {
     "name": "stdout",
     "output_type": "stream",
     "text": [
      "{'A': 'Ram', 'B': 25000}\n"
     ]
    }
   ],
   "source": [
    "print(movies)"
   ]
  },
  {
   "cell_type": "code",
   "execution_count": 57,
   "id": "cb8ca26d-03cd-4ae1-a77b-95784d9ea420",
   "metadata": {},
   "outputs": [
    {
     "name": "stdout",
     "output_type": "stream",
     "text": [
      "<class 'dict'>\n"
     ]
    }
   ],
   "source": [
    "print(type(movies))"
   ]
  },
  {
   "cell_type": "code",
   "execution_count": 3,
   "id": "269d54b9-6b07-4080-b725-33523741e83a",
   "metadata": {},
   "outputs": [
    {
     "ename": "NameError",
     "evalue": "name 'name' is not defined",
     "output_type": "error",
     "traceback": [
      "\u001b[1;31m---------------------------------------------------------------------------\u001b[0m",
      "\u001b[1;31mNameError\u001b[0m                                 Traceback (most recent call last)",
      "Cell \u001b[1;32mIn[3], line 1\u001b[0m\n\u001b[1;32m----> 1\u001b[0m \u001b[38;5;28mprint\u001b[39m(\u001b[38;5;28mint\u001b[39m(\u001b[38;5;28mbin\u001b[39m(name)))\n",
      "\u001b[1;31mNameError\u001b[0m: name 'name' is not defined"
     ]
    }
   ],
   "source": [
    "print(int(bin(name)))"
   ]
  },
  {
   "cell_type": "code",
   "execution_count": 61,
   "id": "661c6cd0-123c-43c3-b510-fcb8486344fb",
   "metadata": {},
   "outputs": [
    {
     "name": "stdout",
     "output_type": "stream",
     "text": [
      "0b11001\n"
     ]
    }
   ],
   "source": [
    "print(bin(age))"
   ]
  },
  {
   "cell_type": "code",
   "execution_count": 63,
   "id": "b070c062-102f-4b89-adab-c0f5a99c2daa",
   "metadata": {},
   "outputs": [
    {
     "name": "stdout",
     "output_type": "stream",
     "text": [
      "0x19\n"
     ]
    }
   ],
   "source": [
    "print(hex(age))"
   ]
  },
  {
   "cell_type": "code",
   "execution_count": 65,
   "id": "189395f5-6b7a-4cdd-a1a5-229eb9762b7a",
   "metadata": {},
   "outputs": [
    {
     "ename": "TypeError",
     "evalue": "'str' object cannot be interpreted as an integer",
     "output_type": "error",
     "traceback": [
      "\u001b[1;31m---------------------------------------------------------------------------\u001b[0m",
      "\u001b[1;31mTypeError\u001b[0m                                 Traceback (most recent call last)",
      "Cell \u001b[1;32mIn[65], line 1\u001b[0m\n\u001b[1;32m----> 1\u001b[0m \u001b[38;5;28mprint\u001b[39m(\u001b[38;5;28mhex\u001b[39m(name))\n",
      "\u001b[1;31mTypeError\u001b[0m: 'str' object cannot be interpreted as an integer"
     ]
    }
   ],
   "source": [
    "print(hex(name))"
   ]
  },
  {
   "cell_type": "code",
   "execution_count": 75,
   "id": "31be3863-8e7b-409d-a7fa-5c445952a0a3",
   "metadata": {},
   "outputs": [
    {
     "name": "stdin",
     "output_type": "stream",
     "text": [
      "Enter your name: Dimpal\n"
     ]
    }
   ],
   "source": [
    "name1 = input(\"Enter your name:\")"
   ]
  },
  {
   "cell_type": "code",
   "execution_count": 77,
   "id": "5126dc16-a0ea-4ae6-838c-febb74676867",
   "metadata": {},
   "outputs": [
    {
     "name": "stdout",
     "output_type": "stream",
     "text": [
      "Dimpal\n"
     ]
    }
   ],
   "source": [
    "print(name1)"
   ]
  },
  {
   "cell_type": "raw",
   "id": "6b299e80-65cc-4763-9628-1f57bcf12b09",
   "metadata": {},
   "source": [
    "age = input(\"Enter your age:\")"
   ]
  },
  {
   "cell_type": "code",
   "execution_count": 81,
   "id": "0ba0d7c5-0064-480d-a193-0c72c9fd40a6",
   "metadata": {},
   "outputs": [
    {
     "name": "stdout",
     "output_type": "stream",
     "text": [
      "35\n"
     ]
    }
   ],
   "source": [
    "print(age)"
   ]
  },
  {
   "cell_type": "code",
   "execution_count": 83,
   "id": "5ab95a1b-57d9-4231-94fc-6cec899b3744",
   "metadata": {},
   "outputs": [
    {
     "name": "stdin",
     "output_type": "stream",
     "text": [
      "Enter your name: Dimple\n"
     ]
    },
    {
     "name": "stdout",
     "output_type": "stream",
     "text": [
      "Dimple\n"
     ]
    }
   ],
   "source": [
    "n1 = input(\"Enter your name:\")\n",
    "print(n1)"
   ]
  },
  {
   "cell_type": "code",
   "execution_count": 85,
   "id": "2e42cd94-569b-40f9-a763-1c7101e1d98c",
   "metadata": {},
   "outputs": [
    {
     "name": "stdin",
     "output_type": "stream",
     "text": [
      "Enter your age: 35\n"
     ]
    },
    {
     "name": "stdout",
     "output_type": "stream",
     "text": [
      "35\n"
     ]
    }
   ],
   "source": [
    "a1 = input(\"Enter your age:\")\n",
    "print(a1)"
   ]
  },
  {
   "cell_type": "code",
   "execution_count": 89,
   "id": "93103d4e-808e-4211-b948-ebfdf1bde7e9",
   "metadata": {},
   "outputs": [
    {
     "ename": "SyntaxError",
     "evalue": "unexpected character after line continuation character (1623896633.py, line 1)",
     "output_type": "error",
     "traceback": [
      "\u001b[1;36m  Cell \u001b[1;32mIn[89], line 1\u001b[1;36m\u001b[0m\n\u001b[1;33m    print(n1 \\n a1)\u001b[0m\n\u001b[1;37m              ^\u001b[0m\n\u001b[1;31mSyntaxError\u001b[0m\u001b[1;31m:\u001b[0m unexpected character after line continuation character\n"
     ]
    }
   ],
   "source": [
    "print(n1 \\n a1)"
   ]
  },
  {
   "cell_type": "code",
   "execution_count": 97,
   "id": "7413ffe7-855a-4199-bf1d-c20a15b4810b",
   "metadata": {},
   "outputs": [
    {
     "name": "stdout",
     "output_type": "stream",
     "text": [
      "wecome Dimple your age is 35 years\n"
     ]
    }
   ],
   "source": [
    "print(f\"wecome {n1} your age is {a1} years\")"
   ]
  },
  {
   "cell_type": "code",
   "execution_count": 99,
   "id": "15c006b9-5dfe-4263-8260-d55a01602823",
   "metadata": {},
   "outputs": [
    {
     "ename": "TypeError",
     "evalue": "'float' object cannot be interpreted as an integer",
     "output_type": "error",
     "traceback": [
      "\u001b[1;31m---------------------------------------------------------------------------\u001b[0m",
      "\u001b[1;31mTypeError\u001b[0m                                 Traceback (most recent call last)",
      "Cell \u001b[1;32mIn[99], line 1\u001b[0m\n\u001b[1;32m----> 1\u001b[0m \u001b[38;5;28mprint\u001b[39m(\u001b[38;5;28mbin\u001b[39m(salary))\n",
      "\u001b[1;31mTypeError\u001b[0m: 'float' object cannot be interpreted as an integer"
     ]
    }
   ],
   "source": [
    "print(bin(salary))"
   ]
  },
  {
   "cell_type": "code",
   "execution_count": 105,
   "id": "9efaa309-eb14-4803-9949-04921c93342d",
   "metadata": {},
   "outputs": [],
   "source": [
    "salary = 25000"
   ]
  },
  {
   "cell_type": "code",
   "execution_count": 107,
   "id": "953697b9-006d-4cd7-8ca7-49a9f42d3f70",
   "metadata": {},
   "outputs": [
    {
     "name": "stdout",
     "output_type": "stream",
     "text": [
      "0b110000110101000\n"
     ]
    }
   ],
   "source": [
    "print(bin(salary))"
   ]
  },
  {
   "cell_type": "code",
   "execution_count": 109,
   "id": "46a6bcfe-980e-4a28-b70c-dff8e4b6a9ee",
   "metadata": {},
   "outputs": [],
   "source": [
    "salary = 24.67"
   ]
  },
  {
   "cell_type": "code",
   "execution_count": 111,
   "id": "09fdcadc-4f9b-4f04-b33d-7bad538b80a2",
   "metadata": {},
   "outputs": [
    {
     "ename": "TypeError",
     "evalue": "'float' object cannot be interpreted as an integer",
     "output_type": "error",
     "traceback": [
      "\u001b[1;31m---------------------------------------------------------------------------\u001b[0m",
      "\u001b[1;31mTypeError\u001b[0m                                 Traceback (most recent call last)",
      "Cell \u001b[1;32mIn[111], line 1\u001b[0m\n\u001b[1;32m----> 1\u001b[0m \u001b[38;5;28mprint\u001b[39m(\u001b[38;5;28mbin\u001b[39m(salary))\n",
      "\u001b[1;31mTypeError\u001b[0m: 'float' object cannot be interpreted as an integer"
     ]
    }
   ],
   "source": [
    "print(bin(salary))"
   ]
  },
  {
   "cell_type": "code",
   "execution_count": 113,
   "id": "52992d99-6a7d-483f-81c9-853940bdec4a",
   "metadata": {},
   "outputs": [
    {
     "name": "stdout",
     "output_type": "stream",
     "text": [
      "0b11011010101010000001110010010100000010000\n"
     ]
    }
   ],
   "source": [
    "print(bin(id(salary)))"
   ]
  },
  {
   "cell_type": "code",
   "execution_count": 115,
   "id": "3540bc26-c69a-4ffb-b770-2cf65b48dad3",
   "metadata": {},
   "outputs": [
    {
     "ename": "TypeError",
     "evalue": "'float' object cannot be interpreted as an integer",
     "output_type": "error",
     "traceback": [
      "\u001b[1;31m---------------------------------------------------------------------------\u001b[0m",
      "\u001b[1;31mTypeError\u001b[0m                                 Traceback (most recent call last)",
      "Cell \u001b[1;32mIn[115], line 1\u001b[0m\n\u001b[1;32m----> 1\u001b[0m \u001b[38;5;28mprint\u001b[39m(\u001b[38;5;28mhex\u001b[39m(salary))\n",
      "\u001b[1;31mTypeError\u001b[0m: 'float' object cannot be interpreted as an integer"
     ]
    }
   ],
   "source": [
    "print(hex(salary))"
   ]
  },
  {
   "cell_type": "code",
   "execution_count": 15,
   "id": "b90d45ee-53ea-4758-a52f-9ef137b4015d",
   "metadata": {},
   "outputs": [],
   "source": [
    "st = {2,3,4,5,6,7,8,9}"
   ]
  },
  {
   "cell_type": "code",
   "execution_count": 17,
   "id": "6f7a9aab-8cc5-4f00-a1da-f4b65c8edb60",
   "metadata": {},
   "outputs": [
    {
     "name": "stdout",
     "output_type": "stream",
     "text": [
      "<class 'set'>\n"
     ]
    }
   ],
   "source": [
    "print(type(st))"
   ]
  },
  {
   "cell_type": "code",
   "execution_count": null,
   "id": "3b101e66-ab7f-4083-8421-0ef59fddbd58",
   "metadata": {},
   "outputs": [],
   "source": []
  }
 ],
 "metadata": {
  "kernelspec": {
   "display_name": "Python [conda env:base] *",
   "language": "python",
   "name": "conda-base-py"
  },
  "language_info": {
   "codemirror_mode": {
    "name": "ipython",
    "version": 3
   },
   "file_extension": ".py",
   "mimetype": "text/x-python",
   "name": "python",
   "nbconvert_exporter": "python",
   "pygments_lexer": "ipython3",
   "version": "3.12.7"
  }
 },
 "nbformat": 4,
 "nbformat_minor": 5
}
