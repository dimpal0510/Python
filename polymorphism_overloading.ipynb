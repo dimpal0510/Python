{
 "cells": [
  {
   "cell_type": "markdown",
   "id": "ec531afa-25dc-4067-8943-8d7c8115aa7c",
   "metadata": {},
   "source": [
    "# Polymorphism:\n",
    "#### operator overloading:\n",
    "you can change the meaning of an Python depending upon the operands used. in this tutorial,you will learn\n",
    "# how to use operator overloading in python object oroented programming.\n"
   ]
  },
  {
   "cell_type": "markdown",
   "id": "1b730459-c1b8-4bf4-957a-13ad1b12c474",
   "metadata": {},
   "source": [
    "# Python operator overloading :\n",
    "#### python operators works for built-in classes. but the same operator behaves differently with different types. For Example, The + operator will perform arithmetic addition on two numbers, merge two lists, or concatenate two strings.This feature in python that allows the same operator to have different meaning according to the context is called operator overloading.\n",
    "\n",
    "#### Python operator overloading allows us to use mathematical, logical, and bitwise operators on objects. so,what happens when we use them with objects of a user-defined class? let us consider the following class, which tries to simulate a point in 2-D coordinate system."
   ]
  },
  {
   "cell_type": "markdown",
   "id": "038b01b9-70d5-4032-948c-9158d4a9d7dd",
   "metadata": {},
   "source": [
    "# Polymorphism:\n",
    "# overloading : combine Time Polymorphism\n",
    "# obverloading : Run Time Polymorphism"
   ]
  },
  {
   "cell_type": "code",
   "execution_count": 22,
   "id": "21ab45e5-e48c-48c6-bcca-8b6ec6c61ce5",
   "metadata": {},
   "outputs": [
    {
     "name": "stdout",
     "output_type": "stream",
     "text": [
      "314.15959999999995\n",
      "600\n"
     ]
    }
   ],
   "source": [
    "class Shape:\n",
    "    def __init__(self, name):\n",
    "        self.name = name\n",
    "\n",
    "class Circle(Shape):\n",
    "    def __init__(self, name, radius):\n",
    "        super().__init__(name)\n",
    "        self.radius = radius\n",
    "\n",
    "class Ractangle(Shape):\n",
    "    def __init__(self, name, width, height):\n",
    "        super().__init__(name)\n",
    "        self.width = width\n",
    "        self.height = height\n",
    "\n",
    "def calculateArea(Shape):\n",
    "    if isinstance(Shape, Circle):\n",
    "        return Shape.radius ** 2 * 3.141596\n",
    "    elif isinstance(Shape, Ractangle):\n",
    "        return Shape.width * Shape.height\n",
    "\n",
    "circle = Circle(\"Circle\", 10)\n",
    "ractangle = Ractangle(\"Ractangle\",  20,30)\n",
    "\n",
    "print(calculateArea(circle))\n",
    "print(calculateArea(ractangle))"
   ]
  },
  {
   "cell_type": "code",
   "execution_count": 24,
   "id": "e0af07fd-1c16-43e1-a2c3-1fc344c0e610",
   "metadata": {},
   "outputs": [
    {
     "name": "stdout",
     "output_type": "stream",
     "text": [
      "Total NUmber of Pages :  250\n"
     ]
    }
   ],
   "source": [
    "class Book:\n",
    "    def __init__(self, pages):\n",
    "        self.pages = pages\n",
    "    def __add__(self, other):\n",
    "        return self.pages + other.pages\n",
    "\n",
    "b1 = Book(150)\n",
    "b2 = Book(100)\n",
    "\n",
    "print(\"Total NUmber of Pages : \", b1 + b2)\n"
   ]
  },
  {
   "cell_type": "code",
   "execution_count": null,
   "id": "cfd38f62-21f3-43f4-9cf3-e73cdca66309",
   "metadata": {},
   "outputs": [],
   "source": []
  }
 ],
 "metadata": {
  "kernelspec": {
   "display_name": "Python [conda env:base] *",
   "language": "python",
   "name": "conda-base-py"
  },
  "language_info": {
   "codemirror_mode": {
    "name": "ipython",
    "version": 3
   },
   "file_extension": ".py",
   "mimetype": "text/x-python",
   "name": "python",
   "nbconvert_exporter": "python",
   "pygments_lexer": "ipython3",
   "version": "3.12.7"
  }
 },
 "nbformat": 4,
 "nbformat_minor": 5
}
