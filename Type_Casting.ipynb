{
 "cells": [
  {
   "cell_type": "code",
   "execution_count": 1,
   "id": "2908b438-11d2-423e-8706-24fad470cfdb",
   "metadata": {},
   "outputs": [],
   "source": [
    "#Type casting :\n",
    "#impliocit Type casting\n",
    "#explicit type casting"
   ]
  },
  {
   "cell_type": "code",
   "execution_count": 9,
   "id": "da660593-be71-4c6f-9a9b-c2dfb6f2c6ad",
   "metadata": {},
   "outputs": [
    {
     "name": "stdin",
     "output_type": "stream",
     "text": [
      "Enter the first number: 0\n"
     ]
    },
    {
     "name": "stdout",
     "output_type": "stream",
     "text": [
      "<class 'int'>\n",
      "the value of x is 0\n"
     ]
    }
   ],
   "source": [
    "x = int(input(\"Enter the first number:\"))\n",
    "print(type(x))\n",
    "if(x>0):\n",
    "        print(\"x is greatest\")\n",
    "elif(x<0):\n",
    "        print(\"x is smaller\")\n",
    "else:\n",
    "        print(\"the value of x is 0\")"
   ]
  },
  {
   "cell_type": "code",
   "execution_count": 17,
   "id": "9ed5c16f-f460-4fee-afdb-437a2005e6a7",
   "metadata": {},
   "outputs": [
    {
     "name": "stdin",
     "output_type": "stream",
     "text": [
      "Enter your first Number: 36\n",
      "Enter your second number: 25\n"
     ]
    },
    {
     "name": "stdout",
     "output_type": "stream",
     "text": [
      "X is greatest\n"
     ]
    }
   ],
   "source": [
    "x = float(input(\"Enter your first Number:\"))\n",
    "y = float(input(\"Enter your second number:\"))\n",
    "if(x>y):\n",
    "          print(\"X is greatest\")\n",
    "elif(x<y):\n",
    "          print(\"Y is greatest\")\n",
    "else:\n",
    "            print(\"invalid Number\")"
   ]
  },
  {
   "cell_type": "code",
   "execution_count": 39,
   "id": "99c236b8-99d4-4708-b8c9-8b006c39059c",
   "metadata": {},
   "outputs": [
    {
     "name": "stdin",
     "output_type": "stream",
     "text": [
      "Enter your percentage: 99\n"
     ]
    },
    {
     "name": "stdout",
     "output_type": "stream",
     "text": [
      "you got distiction\n"
     ]
    }
   ],
   "source": [
    "x = int(input(\"Enter your percentage:\"))\n",
    "if(x >= 90):\n",
    "    print(\"you got distiction\")\n",
    "elif(x < 90 and x > 70):\n",
    "    print(\"you got first class\")\n",
    "elif(x < 60 and x > 50):\n",
    "    print(\"you got second class\")\n",
    "elif(x < 50 and x >= 35):\n",
    "    print(\"you are pass\")\n",
    "else:\n",
    "    print(\"you are fail\")"
   ]
  },
  {
   "cell_type": "code",
   "execution_count": 75,
   "id": "395b86af-e902-44fd-ac9d-bfba65212118",
   "metadata": {},
   "outputs": [
    {
     "name": "stdin",
     "output_type": "stream",
     "text": [
      "Enter the first Number 3\n",
      "Enter the second Number 3\n",
      "Enter the third Number 5\n"
     ]
    },
    {
     "name": "stdout",
     "output_type": "stream",
     "text": [
      "Z is greatest\n"
     ]
    }
   ],
   "source": [
    "x = int(input(\"Enter the first Number\"))\n",
    "y = int(input(\"Enter the second Number\"))\n",
    "z = int(input(\"Enter the third Number\"))\n",
    "\n",
    "if(x > y and x > z):\n",
    "    print(\"x is greatest\")\n",
    "elif(y > x and y > z):\n",
    "    print(\"Y is greatest\")\n",
    "elif(z > x and z > y): \n",
    "    print(\"Z is greatest\")\n",
    "else:\n",
    "    print(\"All are equals\")"
   ]
  },
  {
   "cell_type": "code",
   "execution_count": 77,
   "id": "df0c0f51-3a73-45f7-b234-4d2025fd11d5",
   "metadata": {},
   "outputs": [
    {
     "name": "stdin",
     "output_type": "stream",
     "text": [
      "ENTER YOUR FIRST NUMBER 5\n",
      "ENTER YOUR SECOND NUMBER 4\n"
     ]
    },
    {
     "name": "stdout",
     "output_type": "stream",
     "text": [
      "X is greatest\n"
     ]
    }
   ],
   "source": [
    "x = int(input(\"ENTER YOUR FIRST NUMBER\"))\n",
    "y = int(input(\"ENTER YOUR SECOND NUMBER\"))\n",
    "if(x > y or x < y):\n",
    "    print(\"X is greatest\")\n",
    "elif(y >x or y < x):\n",
    "    print(\"Y is greatest\")\n",
    "else:\n",
    "     print(\"invalid input\")"
   ]
  },
  {
   "cell_type": "markdown",
   "id": "cbc0da4e-77c2-46a5-a4a5-1bc2c85a857f",
   "metadata": {},
   "source": [
    "n1 = int(input(\"Number 1: \"))\n",
    "n2 = int(input(\"Number 2: \"))\n",
    "n3 = int(input(\"Number 3: \"))\n",
    "n4 = int(input(\"Number 4: \"))\n",
    "\n",
    "if n1 > n2 and n1 > n3 and n1 > n4:\n",
    "    greatest = n1\n",
    "elif n2 > n3 and n2 > n4:\n",
    "    greatest = n2\n",
    "elif n3 > n4:\n",
    "    greatest = n3\n",
    "else:\n",
    "    greatest = n4\n",
    "\n",
    "print(f\" {greatest} is the greatest of the numbers.\")"
   ]
  },
  {
   "cell_type": "code",
   "execution_count": 93,
   "id": "0b47b66e-72d9-4a97-8e88-0d54b997c17a",
   "metadata": {},
   "outputs": [
    {
     "name": "stdin",
     "output_type": "stream",
     "text": [
      "number 1: 6\n",
      "number 2: 6\n",
      "number 3: 6\n",
      "number 4: 6\n"
     ]
    },
    {
     "name": "stdout",
     "output_type": "stream",
     "text": [
      "all numbers are equal\n",
      "6 is the greatest number.\n"
     ]
    }
   ],
   "source": [
    "num1 = int(input(\"number 1:\"))\n",
    "num2 = int(input(\"number 2:\"))\n",
    "num3 = int(input(\"number 3:\"))\n",
    "num4 = int(input(\"number 4:\"))\n",
    "\n",
    "if num1 > num2 and num1 > num3 and num1 > num4:\n",
    "    greatest = num1\n",
    "elif num2 > num3 and num2 > num1 and num2 > num4:\n",
    "    greatest = num2\n",
    "elif num3 > num4 and num3 > num1 and num3 > num2:\n",
    "    greatest = num3\n",
    "elif num4 > num1 and num4 > num2 and num4 > num3:\n",
    "    greatest = num4\n",
    "else:\n",
    "    print(\"all numbers are equal\")\n",
    "\n",
    "print(f\"{greatest} is the greatest number.\")"
   ]
  },
  {
   "cell_type": "code",
   "execution_count": null,
   "id": "1feb13c2-81ea-4e8d-9d57-b15ad342c561",
   "metadata": {},
   "outputs": [],
   "source": []
  }
 ],
 "metadata": {
  "kernelspec": {
   "display_name": "Python [conda env:base] *",
   "language": "python",
   "name": "conda-base-py"
  },
  "language_info": {
   "codemirror_mode": {
    "name": "ipython",
    "version": 3
   },
   "file_extension": ".py",
   "mimetype": "text/x-python",
   "name": "python",
   "nbconvert_exporter": "python",
   "pygments_lexer": "ipython3",
   "version": "3.12.7"
  }
 },
 "nbformat": 4,
 "nbformat_minor": 5
}
