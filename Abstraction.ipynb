{
 "cells": [
  {
   "cell_type": "markdown",
   "id": "07b92b07-2a91-4918-bb44-88455109bc1a",
   "metadata": {},
   "source": [
    "#Abstraction"
   ]
  },
  {
   "cell_type": "code",
   "execution_count": 6,
   "id": "b42002ff-af17-4864-a067-30d86fe97866",
   "metadata": {},
   "outputs": [
    {
     "name": "stdout",
     "output_type": "stream",
     "text": [
      "Car Engine has started\n",
      "Car Engine has stoped.\n",
      "Bike engine started.\n",
      "Bike engine stoped\n"
     ]
    }
   ],
   "source": [
    "from abc import ABC, abstractmethod\n",
    "\n",
    "class Vehicle(ABC):\n",
    "    @abstractmethod\n",
    "    def start_engine(self):\n",
    "        pass\n",
    "\n",
    "    @abstractmethod\n",
    "    def stop_engine(self):\n",
    "        pass\n",
    "\n",
    "class Car(Vehicle):\n",
    "    def start_engine(self):\n",
    "        return \"Car Engine has started\"\n",
    "\n",
    "    def stop_engine(self):\n",
    "        return \"Car Engine has stoped.\"\n",
    "\n",
    "class Bike(Vehicle):\n",
    "    def start_engine(self):\n",
    "        return \"Bike engine started.\"\n",
    "\n",
    "    def stop_engine(self):\n",
    "        return \"Bike engine stoped\"\n",
    "\n",
    "car = Car()\n",
    "bike = Bike()\n",
    "\n",
    "print(car.start_engine())\n",
    "print(car.stop_engine())\n",
    "print(bike.start_engine())\n",
    "print(bike.stop_engine())\n"
   ]
  },
  {
   "cell_type": "code",
   "execution_count": 10,
   "id": "f7f9c2d5-bc63-4e14-b152-207148468033",
   "metadata": {},
   "outputs": [
    {
     "name": "stdout",
     "output_type": "stream",
     "text": [
      "Processing credit Card payment of 100\n",
      "Processing PayPal payment 200\n",
      "Procesiing cryptocurrency payment of 300\n"
     ]
    }
   ],
   "source": [
    "from abc import ABC, abstractmethod\n",
    "\n",
    "class PaymentProcessor(ABC):\n",
    "    @abstractmethod\n",
    "    def process_payment(self, amuont):\n",
    "        pass\n",
    "\n",
    "class CreditCardProcessor(PaymentProcessor):\n",
    "        def process_payment(self, amount):\n",
    "            return f\"Processing credit Card payment of {amount}\"\n",
    "\n",
    "class PayPalProcessor(PaymentProcessor):\n",
    "    def process_payment(self, amount):\n",
    "        return f\"Processing PayPal payment {amount}\"\n",
    "\n",
    "class CryptoProcessor(PaymentProcessor):\n",
    "    def process_payment(self, amount):\n",
    "        return f\"Procesiing cryptocurrency payment of {amount}\"\n",
    "\n",
    "credit_card = CreditCardProcessor()\n",
    "paypal = PayPalProcessor()\n",
    "crypto = CryptoProcessor()\n",
    "\n",
    "print(credit_card.process_payment(100))\n",
    "print(paypal.process_payment(200))\n",
    "print(crypto.process_payment(300))\n"
   ]
  },
  {
   "cell_type": "code",
   "execution_count": 16,
   "id": "e75c0106-f4f5-43c9-b60a-27ff459bea9b",
   "metadata": {},
   "outputs": [
    {
     "name": "stdout",
     "output_type": "stream",
     "text": [
      "Toyoto Corolla is driving on the road.\n",
      "Yamaha 275SD is driving on water\n"
     ]
    }
   ],
   "source": [
    "from abc import ABC, abstractmethod\n",
    "\n",
    "class Vehicle(ABC):\n",
    "    def __init__(self, brand, model):\n",
    "        self.brand = brand\n",
    "        self.model = model\n",
    "\n",
    "    @abstractmethod\n",
    "    def drive(self):\n",
    "        pass\n",
    "\n",
    "class Car(Vehicle):\n",
    "    def drive(self):\n",
    "        return f\"{self.brand} {self.model} is driving on the road.\"\n",
    "\n",
    "class Boat(Vehicle):\n",
    "    def drive(self):\n",
    "        return f\"{self.brand} {self.model} is driving on water\"\n",
    "\n",
    "#creating Object\n",
    "car = Car(\"Toyoto\", \"Corolla\")\n",
    "boat = Boat(\"Yamaha\", \"275SD\")\n",
    "\n",
    "print(car.drive())\n",
    "print(boat.drive())"
   ]
  },
  {
   "cell_type": "code",
   "execution_count": null,
   "id": "3acda660-1b00-4edd-9542-d04a8891b8d9",
   "metadata": {},
   "outputs": [],
   "source": []
  }
 ],
 "metadata": {
  "kernelspec": {
   "display_name": "Python 3 (ipykernel)",
   "language": "python",
   "name": "python3"
  },
  "language_info": {
   "codemirror_mode": {
    "name": "ipython",
    "version": 3
   },
   "file_extension": ".py",
   "mimetype": "text/x-python",
   "name": "python",
   "nbconvert_exporter": "python",
   "pygments_lexer": "ipython3",
   "version": "3.12.7"
  }
 },
 "nbformat": 4,
 "nbformat_minor": 5
}
