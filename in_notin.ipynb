{
 "cells": [
  {
   "cell_type": "markdown",
   "id": "451d100d-f995-45ff-ac9d-b9040a67dc8a",
   "metadata": {},
   "source": [
    "# Looping\n",
    "### for\n",
    "#### while\n",
    "\n",
    "membership operator"
   ]
  },
  {
   "cell_type": "code",
   "execution_count": 3,
   "id": "ff448953-347d-4e94-ade3-565ad6fa12bb",
   "metadata": {},
   "outputs": [],
   "source": [
    "ls = [2,4,6,7,5,8,8,9,7,8]"
   ]
  },
  {
   "cell_type": "markdown",
   "id": "33f09b1a-c7c1-45b2-8e4b-b906830f54c4",
   "metadata": {},
   "source": [
    "## in\n",
    "## not in"
   ]
  },
  {
   "cell_type": "code",
   "execution_count": 7,
   "id": "ac537eed-f156-4bd2-b49f-2b428a783725",
   "metadata": {},
   "outputs": [
    {
     "data": {
      "text/plain": [
       "True"
      ]
     },
     "execution_count": 7,
     "metadata": {},
     "output_type": "execute_result"
    }
   ],
   "source": [
    "5 in ls"
   ]
  },
  {
   "cell_type": "code",
   "execution_count": 9,
   "id": "77c49ce9-23ba-4beb-a073-8af435882847",
   "metadata": {},
   "outputs": [
    {
     "data": {
      "text/plain": [
       "True"
      ]
     },
     "execution_count": 9,
     "metadata": {},
     "output_type": "execute_result"
    }
   ],
   "source": [
    "6 in ls"
   ]
  },
  {
   "cell_type": "code",
   "execution_count": 11,
   "id": "81fcbb15-9258-408c-b4cd-7c26705126a1",
   "metadata": {},
   "outputs": [
    {
     "data": {
      "text/plain": [
       "False"
      ]
     },
     "execution_count": 11,
     "metadata": {},
     "output_type": "execute_result"
    }
   ],
   "source": [
    "1 in ls"
   ]
  },
  {
   "cell_type": "code",
   "execution_count": 13,
   "id": "f7e8d0f4-6a65-460a-8c71-f51a28818015",
   "metadata": {},
   "outputs": [
    {
     "data": {
      "text/plain": [
       "False"
      ]
     },
     "execution_count": 13,
     "metadata": {},
     "output_type": "execute_result"
    }
   ],
   "source": [
    "0 in ls"
   ]
  },
  {
   "cell_type": "code",
   "execution_count": 15,
   "id": "02ebde45-ac7a-4cca-a8f3-e20f623db7ff",
   "metadata": {},
   "outputs": [
    {
     "data": {
      "text/plain": [
       "True"
      ]
     },
     "execution_count": 15,
     "metadata": {},
     "output_type": "execute_result"
    }
   ],
   "source": [
    "8 in ls"
   ]
  },
  {
   "cell_type": "code",
   "execution_count": 17,
   "id": "5f883de6-2bc7-4948-a2fe-423be51d0bff",
   "metadata": {},
   "outputs": [
    {
     "name": "stdout",
     "output_type": "stream",
     "text": [
      "present\n"
     ]
    }
   ],
   "source": [
    "if 5 in ls:\n",
    "    print(\"present\")\n",
    "else:\n",
    "    print(\"not in list\")"
   ]
  },
  {
   "cell_type": "code",
   "execution_count": 23,
   "id": "570c1231-4b25-46be-b307-d15f799d9ab8",
   "metadata": {},
   "outputs": [
    {
     "name": "stdin",
     "output_type": "stream",
     "text": [
      "Enter the Number 12\n"
     ]
    },
    {
     "name": "stdout",
     "output_type": "stream",
     "text": [
      "the number is correct\n"
     ]
    }
   ],
   "source": [
    "ls1 = [12,14,15,16,14,15,11,21,19,12]\n",
    "ls2 = int(input(\"Enter the Number\"))\n",
    "\n",
    "if ls2 in ls1:\n",
    "    print(\"the number is correct\")\n",
    "else:\n",
    "    print(\"enter the right number\")\n"
   ]
  },
  {
   "cell_type": "markdown",
   "id": "302d952f-8685-4ac7-9de6-f3391aefc862",
   "metadata": {},
   "source": [
    "# range(start, stop , step)"
   ]
  },
  {
   "cell_type": "markdown",
   "id": "05ba4107-392d-49bf-ac38-3952f8ea3928",
   "metadata": {},
   "source": [
    "# range(1,10,2)"
   ]
  },
  {
   "cell_type": "code",
   "execution_count": 31,
   "id": "6dfffc80-b612-4b77-aaed-d545a9afcc73",
   "metadata": {},
   "outputs": [
    {
     "name": "stdout",
     "output_type": "stream",
     "text": [
      "0 1 2 3 4 5 6 7 8 9 "
     ]
    }
   ],
   "source": [
    "for i in range(10):\n",
    "    print(i, end=\" \" )"
   ]
  },
  {
   "cell_type": "code",
   "execution_count": 35,
   "id": "e471ccfb-ea7a-4255-82d3-3121a6085f49",
   "metadata": {},
   "outputs": [
    {
     "name": "stdout",
     "output_type": "stream",
     "text": [
      "1 3 5 7 9 11 13 15 17 19 21 23 25 27 29 "
     ]
    }
   ],
   "source": [
    "for i in range(1 , 30 , 2):\n",
    "    print(i, end=\" \" )"
   ]
  },
  {
   "cell_type": "code",
   "execution_count": 39,
   "id": "0d9a8cdd-25dd-444d-876f-ef9b165f9f40",
   "metadata": {},
   "outputs": [
    {
     "name": "stdout",
     "output_type": "stream",
     "text": [
      "5 10 15 20 25 30 35 40 45 50 55 "
     ]
    }
   ],
   "source": [
    "for i in range(5, 60, 5):\n",
    "    print(i, end=\" \")"
   ]
  },
  {
   "cell_type": "code",
   "execution_count": 45,
   "id": "cc16e3a6-6931-4ece-a47c-79cc47d05658",
   "metadata": {},
   "outputs": [
    {
     "name": "stdout",
     "output_type": "stream",
     "text": [
      "1 3 5 7 9 "
     ]
    }
   ],
   "source": [
    "i = 1\n",
    "while(i<=10):\n",
    "    if(i%2!=0):\n",
    "        print(i, end=\" \")\n",
    "    i = i+1"
   ]
  },
  {
   "cell_type": "markdown",
   "id": "b6b3bb44-973c-42b1-a3d7-04a884ca7258",
   "metadata": {},
   "source": [
    "# Random"
   ]
  },
  {
   "cell_type": "code",
   "execution_count": 47,
   "id": "1cb3b19e-6147-4273-b361-fd8feb85988b",
   "metadata": {},
   "outputs": [],
   "source": [
    "import random"
   ]
  },
  {
   "cell_type": "code",
   "execution_count": 49,
   "id": "7c27e228-9ff3-4a8a-be08-3ceef4f31172",
   "metadata": {},
   "outputs": [
    {
     "name": "stdout",
     "output_type": "stream",
     "text": [
      "['BPF', 'LOG4', 'NV_MAGICCONST', 'RECIP_BPF', 'Random', 'SG_MAGICCONST', 'SystemRandom', 'TWOPI', '_ONE', '_Sequence', '__all__', '__builtins__', '__cached__', '__doc__', '__file__', '__loader__', '__name__', '__package__', '__spec__', '_accumulate', '_acos', '_bisect', '_ceil', '_cos', '_e', '_exp', '_fabs', '_floor', '_index', '_inst', '_isfinite', '_lgamma', '_log', '_log2', '_os', '_pi', '_random', '_repeat', '_sha512', '_sin', '_sqrt', '_test', '_test_generator', '_urandom', '_warn', 'betavariate', 'binomialvariate', 'choice', 'choices', 'expovariate', 'gammavariate', 'gauss', 'getrandbits', 'getstate', 'lognormvariate', 'normalvariate', 'paretovariate', 'randbytes', 'randint', 'random', 'randrange', 'sample', 'seed', 'setstate', 'shuffle', 'triangular', 'uniform', 'vonmisesvariate', 'weibullvariate']\n"
     ]
    }
   ],
   "source": [
    "print(dir(random))"
   ]
  },
  {
   "cell_type": "code",
   "execution_count": 51,
   "id": "b8f42ed5-23fc-45fd-b4e7-5f6d879ed447",
   "metadata": {},
   "outputs": [
    {
     "data": {
      "text/plain": [
       "0.52967916585567"
      ]
     },
     "execution_count": 51,
     "metadata": {},
     "output_type": "execute_result"
    }
   ],
   "source": [
    "random.random()"
   ]
  },
  {
   "cell_type": "code",
   "execution_count": 53,
   "id": "de20922b-f02b-4946-9500-57fd535b4d83",
   "metadata": {},
   "outputs": [
    {
     "data": {
      "text/plain": [
       "0.38299845599529336"
      ]
     },
     "execution_count": 53,
     "metadata": {},
     "output_type": "execute_result"
    }
   ],
   "source": [
    "random.random()"
   ]
  },
  {
   "cell_type": "code",
   "execution_count": 59,
   "id": "910ab131-16e3-4eca-8f36-f3788139488d",
   "metadata": {},
   "outputs": [
    {
     "data": {
      "text/plain": [
       "0.9776414500806049"
      ]
     },
     "execution_count": 59,
     "metadata": {},
     "output_type": "execute_result"
    }
   ],
   "source": [
    "random.random()"
   ]
  },
  {
   "cell_type": "code",
   "execution_count": 65,
   "id": "71776b69-54ab-46b4-9aaf-2bd786ba724c",
   "metadata": {},
   "outputs": [
    {
     "data": {
      "text/plain": [
       "8"
      ]
     },
     "execution_count": 65,
     "metadata": {},
     "output_type": "execute_result"
    }
   ],
   "source": [
    "random.randint(1,10)"
   ]
  },
  {
   "cell_type": "code",
   "execution_count": 67,
   "id": "b6fdae21-24fa-434c-be76-cf6dddbdae8d",
   "metadata": {},
   "outputs": [
    {
     "data": {
      "text/plain": [
       "9"
      ]
     },
     "execution_count": 67,
     "metadata": {},
     "output_type": "execute_result"
    }
   ],
   "source": [
    "random.randint(1,10)"
   ]
  },
  {
   "cell_type": "code",
   "execution_count": 69,
   "id": "33b158a2-80e6-4c85-943e-781801262304",
   "metadata": {},
   "outputs": [
    {
     "data": {
      "text/plain": [
       "2"
      ]
     },
     "execution_count": 69,
     "metadata": {},
     "output_type": "execute_result"
    }
   ],
   "source": [
    "random.randint(1,10)"
   ]
  },
  {
   "cell_type": "code",
   "execution_count": 71,
   "id": "48b910a9-ddfd-482c-b1ae-084b2c4a0c42",
   "metadata": {},
   "outputs": [
    {
     "data": {
      "text/plain": [
       "6"
      ]
     },
     "execution_count": 71,
     "metadata": {},
     "output_type": "execute_result"
    }
   ],
   "source": [
    "random.randint(2,40)"
   ]
  },
  {
   "cell_type": "code",
   "execution_count": 73,
   "id": "9f600db9-94b0-4f33-9442-1b31f9cae690",
   "metadata": {},
   "outputs": [
    {
     "data": {
      "text/plain": [
       "8"
      ]
     },
     "execution_count": 73,
     "metadata": {},
     "output_type": "execute_result"
    }
   ],
   "source": [
    "random.randint(8,10)"
   ]
  },
  {
   "cell_type": "code",
   "execution_count": 75,
   "id": "da0df7e2-df8a-4baa-8c4c-5e7c85585c81",
   "metadata": {},
   "outputs": [
    {
     "data": {
      "text/plain": [
       "10"
      ]
     },
     "execution_count": 75,
     "metadata": {},
     "output_type": "execute_result"
    }
   ],
   "source": [
    "random.randint(8,10)"
   ]
  },
  {
   "cell_type": "code",
   "execution_count": 77,
   "id": "8d341621-5ce1-4519-849f-92e6b759ac35",
   "metadata": {},
   "outputs": [
    {
     "data": {
      "text/plain": [
       "1"
      ]
     },
     "execution_count": 77,
     "metadata": {},
     "output_type": "execute_result"
    }
   ],
   "source": [
    "random.randrange(1, 10 , 2)"
   ]
  },
  {
   "cell_type": "code",
   "execution_count": 79,
   "id": "e089ae9f-fb3c-45fd-a806-7b90f5266220",
   "metadata": {},
   "outputs": [
    {
     "data": {
      "text/plain": [
       "3"
      ]
     },
     "execution_count": 79,
     "metadata": {},
     "output_type": "execute_result"
    }
   ],
   "source": [
    "random.randrange(1,10,2)"
   ]
  },
  {
   "cell_type": "code",
   "execution_count": 83,
   "id": "ac2b6a84-e87f-4d6d-af05-7e9268a0ffae",
   "metadata": {},
   "outputs": [
    {
     "name": "stdin",
     "output_type": "stream",
     "text": [
      "Enter the first Number: 25\n",
      "Enter the second Number: 56\n"
     ]
    },
    {
     "name": "stdout",
     "output_type": "stream",
     "text": [
      "The randon number you guess is 38\n"
     ]
    }
   ],
   "source": [
    "l1 = int(input(\"Enter the first Number:\"))\n",
    "u1 = int(input(\"Enter the second Number:\"))\n",
    "\n",
    "data = random.randint(l1,u1)\n",
    "print(f\"The randon number you guess is {data}\")"
   ]
  },
  {
   "cell_type": "code",
   "execution_count": 85,
   "id": "f0f3be2b-c3a2-49cc-9150-5e3f151c0f64",
   "metadata": {},
   "outputs": [
    {
     "name": "stdin",
     "output_type": "stream",
     "text": [
      "Enter the lower limit: 12\n",
      "Enter the uper Limit: 12\n",
      "Enter your choice: 12\n"
     ]
    },
    {
     "name": "stdout",
     "output_type": "stream",
     "text": [
      "you are right\n",
      "Right choice is 12\n"
     ]
    }
   ],
   "source": [
    "a = int(input(\"Enter the lower limit:\"))\n",
    "b = int(input(\"Enter the uper Limit:\"))\n",
    "\n",
    "data = random.randint(a, b)\n",
    "\n",
    "choice = int(input(\"Enter your choice:\"))\n",
    "\n",
    "if(data == choice):\n",
    "    print(\"you are right\")\n",
    "else:\n",
    "    print(\"your choice is wrong\")\n",
    "\n",
    "print(f\"Right choice is {data}\")\n",
    "\n"
   ]
  },
  {
   "cell_type": "code",
   "execution_count": 3,
   "id": "66ffbd77-9a72-469e-8bb8-2636339716fb",
   "metadata": {},
   "outputs": [
    {
     "name": "stdin",
     "output_type": "stream",
     "text": [
      "Enter the first Number: 12\n",
      "Enter the second Number: 22\n",
      "Enter your choice: 20\n"
     ]
    },
    {
     "name": "stdout",
     "output_type": "stream",
     "text": [
      "your choice is wrong\n",
      "Right choice is : 16\n"
     ]
    }
   ],
   "source": [
    "import random\n",
    "a1 = int(input(\"Enter the first Number:\"))\n",
    "b1 = int(input(\"Enter the second Number:\"))\n",
    "\n",
    "c1 = random.randint(a1, b1)\n",
    "\n",
    "d1 = int(input(\"Enter your choice:\"))\n",
    "\n",
    "if(c1==d1):\n",
    "    print(\"your choice is right\")\n",
    "\n",
    "else:\n",
    "    print(\"your choice is wrong\")\n",
    "\n",
    "    print(f\"Right choice is : {c1}\")\n"
   ]
  },
  {
   "cell_type": "code",
   "execution_count": null,
   "id": "cee49405-3fad-4637-92c8-7a8a288a11a3",
   "metadata": {},
   "outputs": [],
   "source": []
  }
 ],
 "metadata": {
  "kernelspec": {
   "display_name": "Python [conda env:base] *",
   "language": "python",
   "name": "conda-base-py"
  },
  "language_info": {
   "codemirror_mode": {
    "name": "ipython",
    "version": 3
   },
   "file_extension": ".py",
   "mimetype": "text/x-python",
   "name": "python",
   "nbconvert_exporter": "python",
   "pygments_lexer": "ipython3",
   "version": "3.12.7"
  }
 },
 "nbformat": 4,
 "nbformat_minor": 5
}
